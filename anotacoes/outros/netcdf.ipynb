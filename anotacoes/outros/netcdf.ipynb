{
 "cells": [
  {
   "cell_type": "code",
   "execution_count": 39,
   "metadata": {},
   "outputs": [],
   "source": [
    "import netCDF4 as nc\n",
    "import numpy as np\n",
    "import pandas as pd"
   ]
  },
  {
   "cell_type": "code",
   "execution_count": 40,
   "metadata": {},
   "outputs": [],
   "source": [
    "sresa = nc.Dataset('../arquivos/sresa1b_ncar_ccsm3-example.nc')"
   ]
  },
  {
   "cell_type": "code",
   "execution_count": 41,
   "metadata": {},
   "outputs": [],
   "source": [
    "lon = sresa.variables['lon']"
   ]
  },
  {
   "cell_type": "code",
   "execution_count": 42,
   "metadata": {},
   "outputs": [
    {
     "data": {
      "text/plain": [
       "'X'"
      ]
     },
     "execution_count": 42,
     "metadata": {},
     "output_type": "execute_result"
    }
   ],
   "source": [
    "lon.axis"
   ]
  },
  {
   "cell_type": "code",
   "execution_count": 72,
   "metadata": {},
   "outputs": [],
   "source": [
    "lonlat = sresa.get_variables_by_attributes(axis=lambda axis: axis in ['X', 'Y'])\n",
    "lonlat = tuple(sorted(lonlat, key=lambda o: o.axis))"
   ]
  },
  {
   "cell_type": "code",
   "execution_count": 78,
   "metadata": {},
   "outputs": [
    {
     "data": {
      "text/plain": [
       "8"
      ]
     },
     "execution_count": 78,
     "metadata": {},
     "output_type": "execute_result"
    }
   ],
   "source": [
    "np.abs(lonlat[0][:] - 11).argmin()"
   ]
  },
  {
   "cell_type": "code",
   "execution_count": 85,
   "metadata": {},
   "outputs": [],
   "source": [
    "class Netcdf4Wrapper():\n",
    "    def __init__(self, file_path):\n",
    "        self.file_path = file_path\n",
    "        self.dataset = nc.Dataset(self.file_path)\n",
    "        lonlat = self.dataset.get_variables_by_attributes(axis=lambda axis: axis in ['X', 'Y'])\n",
    "        self.lonlat = tuple(sorted(lonlat, key=lambda o: o.axis))\n",
    "    \n",
    "    def get_data(self, varname, lonlat):\n",
    "        lon_idx, lat_idx = self.get_indexes(lonlat)\n",
    "        return self.dataset.variables[varname][:, lat_idx, lon_idx]\n",
    "    \n",
    "    def get_indexes(self, lonlat):\n",
    "        lon, lat = lonlat\n",
    "        return (np.abs(self.lonlat[0][:] - lon).argmin(), np.abs(self.lonlat[1][:] - lat).argmin())\n",
    "\n",
    "ncw = Netcdf4Wrapper('../arquivos/sresa1b_ncar_ccsm3-example.nc')"
   ]
  },
  {
   "cell_type": "code",
   "execution_count": 96,
   "metadata": {},
   "outputs": [
    {
     "data": {
      "text/plain": [
       "(128, 2)"
      ]
     },
     "execution_count": 96,
     "metadata": {},
     "output_type": "execute_result"
    }
   ],
   "source": [
    "ncw.dataset.variables['lat_bnds'][:, :].shape"
   ]
  }
 ],
 "metadata": {
  "kernelspec": {
   "display_name": "Python 3",
   "language": "python",
   "name": "python3"
  },
  "language_info": {
   "codemirror_mode": {
    "name": "ipython",
    "version": 3
   },
   "file_extension": ".py",
   "mimetype": "text/x-python",
   "name": "python",
   "nbconvert_exporter": "python",
   "pygments_lexer": "ipython3",
   "version": "3.5.2"
  }
 },
 "nbformat": 4,
 "nbformat_minor": 2
}
