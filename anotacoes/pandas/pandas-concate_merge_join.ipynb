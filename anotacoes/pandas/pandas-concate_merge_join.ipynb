{
  "cells": [
    {
      "cell_type": "code",
      "source": [
        "import numpy as np\n",
        "import pandas as pd\n",
        "from pprint import pprint"
      ],
      "outputs": [],
      "execution_count": null,
      "metadata": {
        "collapsed": false,
        "outputHidden": false,
        "inputHidden": false
      }
    },
    {
      "cell_type": "code",
      "source": [
        "col = list('ABCDEFG')\n",
        "length = len(col)\n",
        "c_range = range(0, 10)\n",
        "data = []\n",
        "for i in c_range:\n",
        "    d = {}\n",
        "    for letter in col:\n",
        "        start = i * length\n",
        "        counter = range(start, start + length)\n",
        "        values = list(zip(list(letter * length), counter))\n",
        "        d[letter] = ['{}{}'.format(*v) for v in values]\n",
        "\n    data.append(d)"
      ],
      "outputs": [],
      "execution_count": null,
      "metadata": {
        "collapsed": false,
        "outputHidden": false,
        "inputHidden": false
      }
    },
    {
      "cell_type": "code",
      "source": [
        "data\n",
        "df1 = {'A': ['A0', 'A1', 'A2', 'A3'],\n",
        "       'B': ['B0', 'B1', 'B2', 'B3'],\n",
        "       'C': ['C0', 'C1', 'C2', 'C3'],\n",
        "       'D': ['D0', 'D1', 'D2', 'D3']}\n",
        "df1 = pd.DataFrame(df1, index=range(0, 4))"
      ],
      "outputs": [],
      "execution_count": null,
      "metadata": {
        "collapsed": false,
        "outputHidden": false,
        "inputHidden": false
      }
    },
    {
      "cell_type": "code",
      "source": [
        "df2 = {'A': ['A4', 'A5', 'A6', 'A7'],\n",
        "       'B': ['B4', 'B5', 'B6', 'B7'],\n",
        "       'C': ['C4', 'C5', 'C6', 'C7'],\n",
        "       'D': ['D4', 'D5', 'D6', 'D7']}\n",
        "df2 = pd.DataFrame(df2, index=range(4, 8))"
      ],
      "outputs": [],
      "execution_count": null,
      "metadata": {
        "collapsed": false,
        "outputHidden": false,
        "inputHidden": false
      }
    },
    {
      "cell_type": "code",
      "source": [
        "df3 = {'A': ['A8', 'A9', 'A10', 'A11'],\n",
        "       'B': ['B8', 'B9', 'B10', 'B11'],\n",
        "       'C': ['C8', 'C9', 'C10', 'C11'],\n",
        "       'D': ['D8', 'D9', 'D10', 'D11']}\n",
        "df3 = pd.DataFrame(df3, index=range(8, 12))"
      ],
      "outputs": [],
      "execution_count": null,
      "metadata": {
        "collapsed": false,
        "outputHidden": false,
        "inputHidden": false
      }
    },
    {
      "cell_type": "code",
      "source": [
        "# Concatenação\n",
        "pd.concat([df1, df2, df3])[['A']]\n",
        "\ndf3[~df3.isnull()]"
      ],
      "outputs": [],
      "execution_count": null,
      "metadata": {
        "collapsed": false,
        "outputHidden": false,
        "inputHidden": false
      }
    }
  ],
  "metadata": {},
  "nbformat": 4,
  "nbformat_minor": 4
}