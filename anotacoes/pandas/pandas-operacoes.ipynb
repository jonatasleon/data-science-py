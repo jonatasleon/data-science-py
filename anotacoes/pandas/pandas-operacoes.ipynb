{
  "cells": [
    {
      "cell_type": "code",
      "source": [
        "import numpy as np\n",
        "import pandas as pd"
      ],
      "outputs": [],
      "execution_count": null,
      "metadata": {
        "collapsed": false,
        "outputHidden": false,
        "inputHidden": false
      }
    },
    {
      "cell_type": "code",
      "source": [
        "data = {'A': ['foo', 'foo', 'foo', 'bar', 'bar', 'bar'],\n",
        "        'B': ['one', 'one', 'two', 'two', 'one', 'one'],\n",
        "        'C': ['x', 'y', 'x', 'y', 'x', 'y'],\n",
        "        'D': [1, 3, 2, 5, 4, 1]}\n",
        "df = pd.DataFrame(data)"
      ],
      "outputs": [],
      "execution_count": null,
      "metadata": {
        "collapsed": false,
        "outputHidden": false,
        "inputHidden": false
      }
    },
    {
      "cell_type": "code",
      "source": [
        "df.pivot_table(values='D', index=['A', 'B'], columns=['C'])"
      ],
      "outputs": [],
      "execution_count": null,
      "metadata": {
        "collapsed": false,
        "outputHidden": false,
        "inputHidden": false
      }
    }
  ],
  "metadata": {},
  "nbformat": 4,
  "nbformat_minor": 4
}